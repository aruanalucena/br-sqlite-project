{
  "nbformat": 4,
  "nbformat_minor": 0,
  "metadata": {
    "anaconda-cloud": {},
    "kernelspec": {
      "display_name": "Python [conda env:udacity-update]",
      "language": "python",
      "name": "conda-env-udacity-update-py"
    },
    "language_info": {
      "codemirror_mode": {
        "name": "ipython",
        "version": 3
      },
      "file_extension": ".py",
      "mimetype": "text/x-python",
      "name": "python",
      "nbconvert_exporter": "python",
      "pygments_lexer": "ipython3",
      "version": "3.7.7"
    },
    "colab": {
      "name": "Projeto - Python com SQLite.ipynb",
      "provenance": [],
      "toc_visible": true,
      "include_colab_link": true
    }
  },
  "cells": [
    {
      "cell_type": "markdown",
      "metadata": {
        "id": "view-in-github",
        "colab_type": "text"
      },
      "source": [
        "<a href=\"https://colab.research.google.com/github/aruanalucena/br-sqlite-project/blob/master/Projeto%20-%20Python%20com%20SQLite.ipynb\" target=\"_parent\"><img src=\"https://colab.research.google.com/assets/colab-badge.svg\" alt=\"Open In Colab\"/></a>"
      ]
    },
    {
      "cell_type": "markdown",
      "metadata": {
        "id": "7D-sNPXBW1Ij"
      },
      "source": [
        "# Awari - Data Science\n",
        "\n",
        "## Projeto - Python com SQLite\n",
        "\n",
        "## 1. Considerações iniciais\n",
        "\n",
        "Para que você assimile melhor os comandos do SQL, preparamos este projeto de Python com SQLite. Neste notebook Jupyter, você irá reforçando alguns conceitos da unidade atual e deverá executar algumas tarefas pelo caminho. Todo o projeto deve ser executado neste Jupyter Notebook. Por fim, se desejar, revise as respostas com o seu mentor.\n",
        "\n",
        "### 1.1. Por que SQLite?\n",
        "O SQLite é uma pequena biblioteca em C que possui um banco de dados SQL embutido. Sem o apoio de um poderoso SGDB (Sistema de Gerenciamento de Banco de Dados) como nas soluções do mercado, o SQLite é ideal para fins de aprendizagem, pois sua instalação é fácil e não requer nenhuma configuração inicial. Deste modo, podemos focar nos comandos do SQL.\n",
        "\n",
        "### 1.2. Prepare seu ambiente\n",
        "Baixe e instale o SQLite antes de começar. Resumidamente, você irá acessar a página de [Downloads](https://www.sqlite.org/download.html) do SQLite e baixar os executáveis para a mesma pasta deste notebook. Caso você encontre dificuldades:\n",
        "\n",
        "- Assista a este [vídeo](https://www.youtube.com/watch?v=VcKKt6OTlJc) para \"instalar\" o SQLite no Windows ou;\n",
        "- Ou siga este [manual](http://www.devfuria.com.br/linux/instalando-sqlite/) para as plataformas Linux.\n",
        "\n",
        "### 1.3. Conjunto de dados\n",
        "\n",
        "O conjunto de dados que iremos utilizar é derivado do [Titanic](https://www.kaggle.com/c/titanic/data). Na verdade, dividimos o conjunto em dois arquivos CSV - [passageiros](passageiros.csv) e [passagens](passagens.csv). Cada um destes arquivo serão inseridos dentro do SQLite como tabelas, onde você executará suas consultas SQL.\n",
        "\n",
        "#### 1.3.1. Descrição do dados\n",
        "\n",
        "No arquivo [passageiros](passageiros.csv), você encontrará:\n",
        "- PassengerId: Id do passageiro\n",
        "- Survived: Se o passageiro sobreviveu ou não. Se 0, então não sobreviveu. Se 1, sobreviveu.\n",
        "- Pclass: Classe em que o passageiro estava viajando. Se 1, então estava na primeira classe e assim por diante.\n",
        "- Name: Nome do passageiro.\n",
        "- Sex: Gênero do passageiro. Masculino ou feminino.\n",
        "- Age: Idade.\n",
        "- Sibsp: número de irmãos / esposas a bordo do navio.\n",
        "- Parch: número de pais / filhos a bordo do navio.\n",
        "\n",
        "E no arquivo [passagens](passagens.csv):\n",
        "- PassengerId: Id do passageiro\n",
        "- Ticket: número do ticket de embarque\n",
        "- Fare: valor pago pelo ticket.\n",
        "- Cabin: cabine do passageiro.\n",
        "- Embarked: porto de embarque do passageiro. C = Cherbourg, Q = Queenstown e S = Southampton\n"
      ]
    },
    {
      "cell_type": "markdown",
      "metadata": {
        "id": "UNT8U_zZW1Is"
      },
      "source": [
        "## 2. Procedimentos\n",
        "\n",
        "### 2.1. Leitura dos arquivos CSV\n",
        "Antes de importarmos os dados dentro das tabelas, precisamos começar lendo os arquivos CSV. O pequeno código abaixo importa os dados do CSV em uma lista de dicionários em Python."
      ]
    },
    {
      "cell_type": "code",
      "metadata": {
        "collapsed": true,
        "id": "QoJ6p57OW1It"
      },
      "source": [
        "import csv \n",
        "\n",
        "def importar_csv(arquivo):\n",
        "    dados = []\n",
        "    with open(arquivo) as arq:\n",
        "        leitor = csv.DictReader(arq)\n",
        "        for l in leitor:\n",
        "            dados.append(dict(l))\n",
        "    \n",
        "    print('O conjunto de dados tem %s registros.' % len(dados))\n",
        "    \n",
        "    return dados"
      ],
      "execution_count": 53,
      "outputs": []
    },
    {
      "cell_type": "markdown",
      "metadata": {
        "id": "zs1sEG94W1Iv"
      },
      "source": [
        "### TAREFA 01\n",
        "\n",
        "1. Importe o arquivo passagens.csv usando o mesmo código anterior.\n",
        "2. Atualize as partes contendo `...` com o que falta no seu código\n",
        "\n",
        "**DICA**: Não reinvente a roda, reutilize a função anterior."
      ]
    },
    {
      "cell_type": "code",
      "metadata": {
        "colab": {
          "base_uri": "https://localhost:8080/"
        },
        "id": "jp0F-AxhW1Iv",
        "outputId": "5dbd8144-d9ab-4b06-da72-ae3c4b8fd49a"
      },
      "source": [
        "# Insira seu código aqui\n",
        "import csv \n",
        "\n",
        "def importar_csv(arquivo):\n",
        "    dados = []\n",
        "    with open(arquivo) as arq:\n",
        "        leitor = csv.DictReader(arq)\n",
        "        for l in leitor:\n",
        "            dados.append(dict(l))\n",
        "    \n",
        "    print('O conjunto de dados tem %s registros.' % len(dados))\n",
        "    \n",
        "    return dados\n",
        "passagens = importar_csv('/content/passagens.csv')"
      ],
      "execution_count": 54,
      "outputs": [
        {
          "output_type": "stream",
          "text": [
            "O conjunto de dados tem 891 registros.\n"
          ],
          "name": "stdout"
        }
      ]
    },
    {
      "cell_type": "markdown",
      "metadata": {
        "id": "vUzxXutTW1Iv"
      },
      "source": [
        "### TAREFA 02\n",
        "1. Importe o arquivo passageiros.csv usando o mesmo código anterior."
      ]
    },
    {
      "cell_type": "code",
      "metadata": {
        "collapsed": true,
        "colab": {
          "base_uri": "https://localhost:8080/"
        },
        "id": "13gFh-aSW1Iw",
        "outputId": "c9b19e61-5cf0-4062-a2cb-f28b49cb2bef"
      },
      "source": [
        "# Insira seu código aqui\n",
        "# Insira seu código aqui\n",
        "import csv \n",
        "\n",
        "def importar_csv(arquivo):\n",
        "    dados = []\n",
        "    with open(arquivo) as arq:\n",
        "        leitor = csv.DictReader(arq)\n",
        "        for l in leitor:\n",
        "            dados.append(dict(l))\n",
        "    \n",
        "    print('O conjunto de dados tem %s registros.' % len(dados))\n",
        "    \n",
        "    return dados\n",
        "passageiros = importar_csv('/content/passageiros.csv')"
      ],
      "execution_count": 55,
      "outputs": [
        {
          "output_type": "stream",
          "text": [
            "O conjunto de dados tem 891 registros.\n"
          ],
          "name": "stdout"
        }
      ]
    },
    {
      "cell_type": "markdown",
      "metadata": {
        "id": "blGaauE7W1Iw"
      },
      "source": [
        "### 2.2. Criando o banco de dados\n",
        "Para manipular um banco SQLite com Python, temos que utilizar uma biblioteca específica."
      ]
    },
    {
      "cell_type": "code",
      "metadata": {
        "collapsed": true,
        "id": "GNK5DLC-W1Ix"
      },
      "source": [
        "import sqlite3\n",
        "conn = sqlite3.connect('titanic.db')"
      ],
      "execution_count": 56,
      "outputs": []
    },
    {
      "cell_type": "markdown",
      "metadata": {
        "id": "43OjwhTfW1Ix"
      },
      "source": [
        "O comando acima cria o arquivo [titanic.db](titanic.db), que armazará nossos dados."
      ]
    },
    {
      "cell_type": "markdown",
      "metadata": {
        "id": "iCyzOwoIW1Ix"
      },
      "source": [
        "### 2.3. Criando as tabelas\n",
        "Neste momento, temos do dados e o banco SQLlite. Então é hora de começar à usar comandos SQL para criar as tabelas que armazenarão nossos dados dentro do banco.\n",
        "\n",
        "No SQLlite, precisamos primeiro criar uma conexão e um cursor para executar nossos comandos no banco. Para facilicar, o código abaixo facilita este processo. Você só precisa passar seu comando SQL para a função."
      ]
    },
    {
      "cell_type": "code",
      "metadata": {
        "collapsed": true,
        "id": "DKMWhZqgW1Iy"
      },
      "source": [
        "def executa(comando):\n",
        "    cursor = conn.cursor()\n",
        "    cursor.execute(comando)\n",
        "    cursor.close()"
      ],
      "execution_count": 57,
      "outputs": []
    },
    {
      "cell_type": "markdown",
      "metadata": {
        "id": "bTs8e0s6W1Iy"
      },
      "source": [
        "Não execute o comando abaixo, pois ele dá um erro. É só um exemplo"
      ]
    },
    {
      "cell_type": "code",
      "metadata": {
        "collapsed": true,
        "id": "TmTXQ1SiW1Iy"
      },
      "source": [
        "# Exemplo\n",
        "#comando = '<SEU_COMANDO_AQUI>'\n",
        "#executa(comando)"
      ],
      "execution_count": 58,
      "outputs": []
    },
    {
      "cell_type": "markdown",
      "metadata": {
        "id": "8CdfLEQvW1Iz"
      },
      "source": [
        "### TAREFA 03\n",
        "1. Cria a tabela passageiros.\n",
        "2. PassengerId deve ser a chave primária.\n",
        "3. Atualize as partes contendo `...` com o que falta no seu código"
      ]
    },
    {
      "cell_type": "code",
      "metadata": {
        "collapsed": true,
        "id": "AR6Bw3NRW1I0"
      },
      "source": [
        "# Insira seu código aqui\n",
        "tabela_passageiros_comando = \"\"\"\n",
        "CREATE TABLE passageiros(PassengerId INTEGER NOT NULL PRIMARY KEY, Survived INTEGER NOT NULL, Pclass INTEGER NOT NULL, Name VARCHAR(200), Sex VARCHAR(20), Age INTEGER, SibSp INTEGER, Parch INTEGER);\n",
        "\"\"\""
      ],
      "execution_count": 59,
      "outputs": []
    },
    {
      "cell_type": "code",
      "metadata": {
        "collapsed": true,
        "colab": {
          "base_uri": "https://localhost:8080/",
          "height": 384
        },
        "id": "Ywq0XtYiW1I0",
        "outputId": "59654ea9-2bda-495b-e0a4-fab92c4debb4"
      },
      "source": [
        "executa( \"\"\"\n",
        "CREATE TABLE passageiros(PassengerId INTEGER NOT NULL PRIMARY KEY, Survived INTEGER NOT NULL, Pclass INTEGER NOT NULL, Name VARCHAR(200), Sex VARCHAR(20), Age INTEGER, SibSp INTEGER, Parch INTEGER);\n",
        "\"\"\")"
      ],
      "execution_count": 60,
      "outputs": [
        {
          "output_type": "stream",
          "text": [
            "ERROR:root:An unexpected error occurred while tokenizing input\n",
            "The following traceback may be corrupted or invalid\n",
            "The error message is: ('EOF in multi-line string', (1, 0))\n",
            "\n"
          ],
          "name": "stderr"
        },
        {
          "output_type": "error",
          "ename": "OperationalError",
          "evalue": "ignored",
          "traceback": [
            "\u001b[0;31m---------------------------------------------------------------------------\u001b[0m",
            "\u001b[0;31mOperationalError\u001b[0m                          Traceback (most recent call last)",
            "\u001b[0;32m<ipython-input-60-091754c77cba>\u001b[0m in \u001b[0;36m<module>\u001b[0;34m()\u001b[0m\n\u001b[1;32m      1\u001b[0m executa( \"\"\"\n\u001b[1;32m      2\u001b[0m \u001b[0mCREATE\u001b[0m \u001b[0mTABLE\u001b[0m \u001b[0mpassageiros\u001b[0m\u001b[0;34m(\u001b[0m\u001b[0mPassengerId\u001b[0m \u001b[0mINTEGER\u001b[0m \u001b[0mNOT\u001b[0m \u001b[0mNULL\u001b[0m \u001b[0mPRIMARY\u001b[0m \u001b[0mKEY\u001b[0m\u001b[0;34m,\u001b[0m \u001b[0mSurvived\u001b[0m \u001b[0mINTEGER\u001b[0m \u001b[0mNOT\u001b[0m \u001b[0mNULL\u001b[0m\u001b[0;34m,\u001b[0m \u001b[0mPclass\u001b[0m \u001b[0mINTEGER\u001b[0m \u001b[0mNOT\u001b[0m \u001b[0mNULL\u001b[0m\u001b[0;34m,\u001b[0m \u001b[0mName\u001b[0m \u001b[0mVARCHAR\u001b[0m\u001b[0;34m(\u001b[0m\u001b[0;36m200\u001b[0m\u001b[0;34m)\u001b[0m\u001b[0;34m,\u001b[0m \u001b[0mSex\u001b[0m \u001b[0mVARCHAR\u001b[0m\u001b[0;34m(\u001b[0m\u001b[0;36m20\u001b[0m\u001b[0;34m)\u001b[0m\u001b[0;34m,\u001b[0m \u001b[0mAge\u001b[0m \u001b[0mINTEGER\u001b[0m\u001b[0;34m,\u001b[0m \u001b[0mSibSp\u001b[0m \u001b[0mINTEGER\u001b[0m\u001b[0;34m,\u001b[0m \u001b[0mParch\u001b[0m \u001b[0mINTEGER\u001b[0m\u001b[0;34m)\u001b[0m\u001b[0;34m;\u001b[0m\u001b[0;34m\u001b[0m\u001b[0;34m\u001b[0m\u001b[0m\n\u001b[0;32m----> 3\u001b[0;31m \"\"\")\n\u001b[0m",
            "\u001b[0;32m<ipython-input-57-de12153073ca>\u001b[0m in \u001b[0;36mexecuta\u001b[0;34m(comando)\u001b[0m\n\u001b[1;32m      1\u001b[0m \u001b[0;32mdef\u001b[0m \u001b[0mexecuta\u001b[0m\u001b[0;34m(\u001b[0m\u001b[0mcomando\u001b[0m\u001b[0;34m)\u001b[0m\u001b[0;34m:\u001b[0m\u001b[0;34m\u001b[0m\u001b[0;34m\u001b[0m\u001b[0m\n\u001b[1;32m      2\u001b[0m     \u001b[0mcursor\u001b[0m \u001b[0;34m=\u001b[0m \u001b[0mconn\u001b[0m\u001b[0;34m.\u001b[0m\u001b[0mcursor\u001b[0m\u001b[0;34m(\u001b[0m\u001b[0;34m)\u001b[0m\u001b[0;34m\u001b[0m\u001b[0;34m\u001b[0m\u001b[0m\n\u001b[0;32m----> 3\u001b[0;31m     \u001b[0mcursor\u001b[0m\u001b[0;34m.\u001b[0m\u001b[0mexecute\u001b[0m\u001b[0;34m(\u001b[0m\u001b[0mcomando\u001b[0m\u001b[0;34m)\u001b[0m\u001b[0;34m\u001b[0m\u001b[0;34m\u001b[0m\u001b[0m\n\u001b[0m\u001b[1;32m      4\u001b[0m     \u001b[0mcursor\u001b[0m\u001b[0;34m.\u001b[0m\u001b[0mclose\u001b[0m\u001b[0;34m(\u001b[0m\u001b[0;34m)\u001b[0m\u001b[0;34m\u001b[0m\u001b[0;34m\u001b[0m\u001b[0m\n",
            "\u001b[0;31mOperationalError\u001b[0m: table passageiros already exists"
          ]
        }
      ]
    },
    {
      "cell_type": "markdown",
      "metadata": {
        "id": "rBwkdBCtW1I0"
      },
      "source": [
        "### TAREFA 04\n",
        "1. Cria a tabela passagens.\n",
        "2. PassengerId deve ser a chave primária.\n",
        "3. Atualize as partes contendo `...` com o que falta no seu código"
      ]
    },
    {
      "cell_type": "code",
      "metadata": {
        "id": "1Lq09KERca1q"
      },
      "source": [
        "def executa(comando):\n",
        "    cursor = conn.cursor()\n",
        "    cursor.execute(comando)\n",
        "    cursor.close()"
      ],
      "execution_count": 61,
      "outputs": []
    },
    {
      "cell_type": "code",
      "metadata": {
        "id": "zbVayW-nZ_Y0"
      },
      "source": [
        "# Insira seu código aqui\n",
        "tabela_passagens_comando = \"\"\"\n",
        "CREATE TABLE ...(... INTEGER NOT NULL PRIMARY KEY, Ticket VARCHAR(200), Fare DECIMAL(9,2), Cabin VARCHAR(20), ... VARCHAR(5));\n",
        "\"\"\""
      ],
      "execution_count": 62,
      "outputs": []
    },
    {
      "cell_type": "code",
      "metadata": {
        "id": "v6K8iiMNcitE"
      },
      "source": [
        "def executa(comando):\n",
        "    cursor = conn.cursor()\n",
        "    cursor.execute(comando)\n",
        "    cursor.close()"
      ],
      "execution_count": 63,
      "outputs": []
    },
    {
      "cell_type": "code",
      "metadata": {
        "collapsed": true,
        "colab": {
          "base_uri": "https://localhost:8080/",
          "height": 384
        },
        "id": "rGrsBT_PW1I1",
        "outputId": "06853a6a-f545-455c-c460-93bd7acb9450"
      },
      "source": [
        "executa(\"\"\"\n",
        "CREATE TABLE ...(... INTEGER NOT NULL PRIMARY KEY, Ticket VARCHAR(200), Fare DECIMAL(9,2), Cabin VARCHAR(20), ... VARCHAR(5));\n",
        "\"\"\")"
      ],
      "execution_count": 64,
      "outputs": [
        {
          "output_type": "stream",
          "text": [
            "ERROR:root:An unexpected error occurred while tokenizing input\n",
            "The following traceback may be corrupted or invalid\n",
            "The error message is: ('EOF in multi-line string', (1, 0))\n",
            "\n"
          ],
          "name": "stderr"
        },
        {
          "output_type": "error",
          "ename": "OperationalError",
          "evalue": "ignored",
          "traceback": [
            "\u001b[0;31m---------------------------------------------------------------------------\u001b[0m",
            "\u001b[0;31mOperationalError\u001b[0m                          Traceback (most recent call last)",
            "\u001b[0;32m<ipython-input-64-95e3f29a6ddd>\u001b[0m in \u001b[0;36m<module>\u001b[0;34m()\u001b[0m\n\u001b[1;32m      1\u001b[0m executa(\"\"\"\n\u001b[1;32m      2\u001b[0m \u001b[0mCREATE\u001b[0m \u001b[0mTABLE\u001b[0m \u001b[0;34m...\u001b[0m\u001b[0;34m(\u001b[0m\u001b[0;34m...\u001b[0m \u001b[0mINTEGER\u001b[0m \u001b[0mNOT\u001b[0m \u001b[0mNULL\u001b[0m \u001b[0mPRIMARY\u001b[0m \u001b[0mKEY\u001b[0m\u001b[0;34m,\u001b[0m \u001b[0mTicket\u001b[0m \u001b[0mVARCHAR\u001b[0m\u001b[0;34m(\u001b[0m\u001b[0;36m200\u001b[0m\u001b[0;34m)\u001b[0m\u001b[0;34m,\u001b[0m \u001b[0mFare\u001b[0m \u001b[0mDECIMAL\u001b[0m\u001b[0;34m(\u001b[0m\u001b[0;36m9\u001b[0m\u001b[0;34m,\u001b[0m\u001b[0;36m2\u001b[0m\u001b[0;34m)\u001b[0m\u001b[0;34m,\u001b[0m \u001b[0mCabin\u001b[0m \u001b[0mVARCHAR\u001b[0m\u001b[0;34m(\u001b[0m\u001b[0;36m20\u001b[0m\u001b[0;34m)\u001b[0m\u001b[0;34m,\u001b[0m \u001b[0;34m...\u001b[0m \u001b[0mVARCHAR\u001b[0m\u001b[0;34m(\u001b[0m\u001b[0;36m5\u001b[0m\u001b[0;34m)\u001b[0m\u001b[0;34m)\u001b[0m\u001b[0;34m;\u001b[0m\u001b[0;34m\u001b[0m\u001b[0;34m\u001b[0m\u001b[0m\n\u001b[0;32m----> 3\u001b[0;31m \"\"\")\n\u001b[0m",
            "\u001b[0;32m<ipython-input-63-de12153073ca>\u001b[0m in \u001b[0;36mexecuta\u001b[0;34m(comando)\u001b[0m\n\u001b[1;32m      1\u001b[0m \u001b[0;32mdef\u001b[0m \u001b[0mexecuta\u001b[0m\u001b[0;34m(\u001b[0m\u001b[0mcomando\u001b[0m\u001b[0;34m)\u001b[0m\u001b[0;34m:\u001b[0m\u001b[0;34m\u001b[0m\u001b[0;34m\u001b[0m\u001b[0m\n\u001b[1;32m      2\u001b[0m     \u001b[0mcursor\u001b[0m \u001b[0;34m=\u001b[0m \u001b[0mconn\u001b[0m\u001b[0;34m.\u001b[0m\u001b[0mcursor\u001b[0m\u001b[0;34m(\u001b[0m\u001b[0;34m)\u001b[0m\u001b[0;34m\u001b[0m\u001b[0;34m\u001b[0m\u001b[0m\n\u001b[0;32m----> 3\u001b[0;31m     \u001b[0mcursor\u001b[0m\u001b[0;34m.\u001b[0m\u001b[0mexecute\u001b[0m\u001b[0;34m(\u001b[0m\u001b[0mcomando\u001b[0m\u001b[0;34m)\u001b[0m\u001b[0;34m\u001b[0m\u001b[0;34m\u001b[0m\u001b[0m\n\u001b[0m\u001b[1;32m      4\u001b[0m     \u001b[0mcursor\u001b[0m\u001b[0;34m.\u001b[0m\u001b[0mclose\u001b[0m\u001b[0;34m(\u001b[0m\u001b[0;34m)\u001b[0m\u001b[0;34m\u001b[0m\u001b[0;34m\u001b[0m\u001b[0m\n",
            "\u001b[0;31mOperationalError\u001b[0m: near \".\": syntax error"
          ]
        }
      ]
    },
    {
      "cell_type": "markdown",
      "metadata": {
        "id": "ZNzDUWKzW1I1"
      },
      "source": [
        "**Atenção:** Caso você tente executar os comandos de criação de tabelas mais de uma vez, perceberá um erro de operação informando que a tabela já existe.\n",
        "\n",
        "Vamos verificar se as tabelas foram realmente criadas? Abra o terminal e na pasta atual digite:\n",
        "```\n",
        "$ sqlite3 titanic.db \".tables\"\n",
        "```\n",
        "O terminal deve retornar com as tabelas existentes em seu banco [titanic.db](titanic.db). Neste casos, *passageiros* e *passagens*. Lembre-se que neste momento, não temos nenhum dado inseridos nas tabelas.\n",
        "\n",
        "Caso queira verifcar mais algumas informações das tabelas criadas, pode executar esta outra instrução:\n",
        "```\n",
        "$ sqlite3 titanic.db \"PRAGMA table_info(passageiros)\"\n",
        "```"
      ]
    },
    {
      "cell_type": "markdown",
      "metadata": {
        "id": "o_VtO03pW1I2"
      },
      "source": [
        "### TAREFA 05\n",
        "1. Pelo terminal, verifique mais informações da tabela passagens."
      ]
    },
    {
      "cell_type": "markdown",
      "metadata": {
        "id": "2kmeL_z6W1I2"
      },
      "source": [
        "### 2.4. Inserindo dados nas tabelas\n",
        "Usando o comando INSERT INTO, vamos popular as nossas tabelas. O processo é simples, percorremos as listas de dicionários, montamos nosso comando INSERT INTO e executamos - uma a uma. Para a tabela passageiros:"
      ]
    },
    {
      "cell_type": "code",
      "metadata": {
        "id": "Xw2hBbOJdNyG"
      },
      "source": [
        "def executa(comando):\n",
        "    cursor = conn.cursor()\n",
        "    cursor.execute(comando)\n",
        "    cursor.close()"
      ],
      "execution_count": 65,
      "outputs": []
    },
    {
      "cell_type": "code",
      "metadata": {
        "collapsed": true,
        "colab": {
          "base_uri": "https://localhost:8080/",
          "height": 299
        },
        "id": "1GIFOeuDW1I3",
        "outputId": "5a4039eb-2db5-4cc8-9fa0-c95174547184"
      },
      "source": [
        "for p in passageiros:\n",
        "    p['Name'] = p['Name'].replace('\"', \"'\")\n",
        "    inserir_passageiro = (\"\"\"\n",
        "    INSERT INTO passageiros(PassengerId, Survived, Pclass, Name, Sex, Age, Sibsp, Parch)\n",
        "    VALUES (%s, \"%s\", \"%s\", \"%s\", \"%s\", \"%s\", \"%s\", \"%s\")\"\"\") % (p['PassengerId'], p['Survived'], p['Pclass'],\n",
        "                                                                 p['Name'], p['Sex'], p['Age'], p['SibSp'],\n",
        "                                                                 p['Parch'])\n",
        "    executa(inserir_passageiro)"
      ],
      "execution_count": 66,
      "outputs": [
        {
          "output_type": "error",
          "ename": "OperationalError",
          "evalue": "ignored",
          "traceback": [
            "\u001b[0;31m---------------------------------------------------------------------------\u001b[0m",
            "\u001b[0;31mOperationalError\u001b[0m                          Traceback (most recent call last)",
            "\u001b[0;32m<ipython-input-66-ffe7f28fcbb8>\u001b[0m in \u001b[0;36m<module>\u001b[0;34m()\u001b[0m\n\u001b[1;32m      6\u001b[0m                                                                  \u001b[0mp\u001b[0m\u001b[0;34m[\u001b[0m\u001b[0;34m'Name'\u001b[0m\u001b[0;34m]\u001b[0m\u001b[0;34m,\u001b[0m \u001b[0mp\u001b[0m\u001b[0;34m[\u001b[0m\u001b[0;34m'Sex'\u001b[0m\u001b[0;34m]\u001b[0m\u001b[0;34m,\u001b[0m \u001b[0mp\u001b[0m\u001b[0;34m[\u001b[0m\u001b[0;34m'Age'\u001b[0m\u001b[0;34m]\u001b[0m\u001b[0;34m,\u001b[0m \u001b[0mp\u001b[0m\u001b[0;34m[\u001b[0m\u001b[0;34m'SibSp'\u001b[0m\u001b[0;34m]\u001b[0m\u001b[0;34m,\u001b[0m\u001b[0;34m\u001b[0m\u001b[0;34m\u001b[0m\u001b[0m\n\u001b[1;32m      7\u001b[0m                                                                  p['Parch'])\n\u001b[0;32m----> 8\u001b[0;31m     \u001b[0mexecuta\u001b[0m\u001b[0;34m(\u001b[0m\u001b[0minserir_passageiro\u001b[0m\u001b[0;34m)\u001b[0m\u001b[0;34m\u001b[0m\u001b[0;34m\u001b[0m\u001b[0m\n\u001b[0m",
            "\u001b[0;32m<ipython-input-65-de12153073ca>\u001b[0m in \u001b[0;36mexecuta\u001b[0;34m(comando)\u001b[0m\n\u001b[1;32m      1\u001b[0m \u001b[0;32mdef\u001b[0m \u001b[0mexecuta\u001b[0m\u001b[0;34m(\u001b[0m\u001b[0mcomando\u001b[0m\u001b[0;34m)\u001b[0m\u001b[0;34m:\u001b[0m\u001b[0;34m\u001b[0m\u001b[0;34m\u001b[0m\u001b[0m\n\u001b[1;32m      2\u001b[0m     \u001b[0mcursor\u001b[0m \u001b[0;34m=\u001b[0m \u001b[0mconn\u001b[0m\u001b[0;34m.\u001b[0m\u001b[0mcursor\u001b[0m\u001b[0;34m(\u001b[0m\u001b[0;34m)\u001b[0m\u001b[0;34m\u001b[0m\u001b[0;34m\u001b[0m\u001b[0m\n\u001b[0;32m----> 3\u001b[0;31m     \u001b[0mcursor\u001b[0m\u001b[0;34m.\u001b[0m\u001b[0mexecute\u001b[0m\u001b[0;34m(\u001b[0m\u001b[0mcomando\u001b[0m\u001b[0;34m)\u001b[0m\u001b[0;34m\u001b[0m\u001b[0;34m\u001b[0m\u001b[0m\n\u001b[0m\u001b[1;32m      4\u001b[0m     \u001b[0mcursor\u001b[0m\u001b[0;34m.\u001b[0m\u001b[0mclose\u001b[0m\u001b[0;34m(\u001b[0m\u001b[0;34m)\u001b[0m\u001b[0;34m\u001b[0m\u001b[0;34m\u001b[0m\u001b[0m\n",
            "\u001b[0;31mOperationalError\u001b[0m: database is locked"
          ]
        }
      ]
    },
    {
      "cell_type": "markdown",
      "metadata": {
        "id": "VsaRIoAUW1I3"
      },
      "source": [
        "### TAREFA 06\n",
        "1. Insira os dados de passagens dentro da tabela passagens"
      ]
    },
    {
      "cell_type": "code",
      "metadata": {
        "collapsed": true,
        "colab": {
          "base_uri": "https://localhost:8080/",
          "height": 299
        },
        "id": "F-neWGw-W1I3",
        "outputId": "8c88378e-19ea-4e5c-d59e-af75cb9f1a3b"
      },
      "source": [
        "# Insira seu código aqui\n",
        "for p in passagens:\n",
        "    inserir_passagens = (\"\"\"\n",
        "    INSERT INTO passagens(PassengerId, Ticket, Fare, Cabin, Embarked)\n",
        "    VALUES (%s, \"%s\", \"%s\", \"%s\", \"%s\")\"\"\") % (p['PassengerId'], p['Ticket'], p['Fare'], \n",
        "                                               p['Cabin'], p['Embarked'])\n",
        "    executa(inserir_passagens)"
      ],
      "execution_count": 45,
      "outputs": [
        {
          "output_type": "error",
          "ename": "OperationalError",
          "evalue": "ignored",
          "traceback": [
            "\u001b[0;31m---------------------------------------------------------------------------\u001b[0m",
            "\u001b[0;31mOperationalError\u001b[0m                          Traceback (most recent call last)",
            "\u001b[0;32m<ipython-input-45-f65067e6eb30>\u001b[0m in \u001b[0;36m<module>\u001b[0;34m()\u001b[0m\n\u001b[1;32m      5\u001b[0m     VALUES (%s, \"%s\", \"%s\", \"%s\", \"%s\")\"\"\") % (p['PassengerId'], p['Ticket'], p['Fare'], \n\u001b[1;32m      6\u001b[0m                                                p['Cabin'], p['Embarked'])\n\u001b[0;32m----> 7\u001b[0;31m     \u001b[0mexecuta\u001b[0m\u001b[0;34m(\u001b[0m\u001b[0minserir_passagens\u001b[0m\u001b[0;34m)\u001b[0m\u001b[0;34m\u001b[0m\u001b[0;34m\u001b[0m\u001b[0m\n\u001b[0m",
            "\u001b[0;32m<ipython-input-42-de12153073ca>\u001b[0m in \u001b[0;36mexecuta\u001b[0;34m(comando)\u001b[0m\n\u001b[1;32m      1\u001b[0m \u001b[0;32mdef\u001b[0m \u001b[0mexecuta\u001b[0m\u001b[0;34m(\u001b[0m\u001b[0mcomando\u001b[0m\u001b[0;34m)\u001b[0m\u001b[0;34m:\u001b[0m\u001b[0;34m\u001b[0m\u001b[0;34m\u001b[0m\u001b[0m\n\u001b[1;32m      2\u001b[0m     \u001b[0mcursor\u001b[0m \u001b[0;34m=\u001b[0m \u001b[0mconn\u001b[0m\u001b[0;34m.\u001b[0m\u001b[0mcursor\u001b[0m\u001b[0;34m(\u001b[0m\u001b[0;34m)\u001b[0m\u001b[0;34m\u001b[0m\u001b[0;34m\u001b[0m\u001b[0m\n\u001b[0;32m----> 3\u001b[0;31m     \u001b[0mcursor\u001b[0m\u001b[0;34m.\u001b[0m\u001b[0mexecute\u001b[0m\u001b[0;34m(\u001b[0m\u001b[0mcomando\u001b[0m\u001b[0;34m)\u001b[0m\u001b[0;34m\u001b[0m\u001b[0;34m\u001b[0m\u001b[0m\n\u001b[0m\u001b[1;32m      4\u001b[0m     \u001b[0mcursor\u001b[0m\u001b[0;34m.\u001b[0m\u001b[0mclose\u001b[0m\u001b[0;34m(\u001b[0m\u001b[0;34m)\u001b[0m\u001b[0;34m\u001b[0m\u001b[0;34m\u001b[0m\u001b[0m\n",
            "\u001b[0;31mOperationalError\u001b[0m: no such table: passagens"
          ]
        }
      ]
    },
    {
      "cell_type": "markdown",
      "metadata": {
        "id": "MoGofcu0W1I4"
      },
      "source": [
        "### 2.5. Executando consultas\n",
        "Agora que os dados estão inseridos no arquivo banco SQLite, vamos executar alguns consultas. Vamos começar fazendo uma seleção de todas as colunas das tabelas.\n",
        "\n",
        "O comando SELECT retorna dados, deste modo, precisamos fazer alguma alteração na função executa. utilize o *executa_consulta()*."
      ]
    },
    {
      "cell_type": "code",
      "metadata": {
        "collapsed": true,
        "id": "_ZVVxssXW1I4"
      },
      "source": [
        "def executa_consulta(consulta):\n",
        "    cursor = conn.cursor()\n",
        "    cursor.execute(consulta)\n",
        "    for linha in cursor.fetchall():\n",
        "        print(linha)\n",
        "    \n",
        "    cursor.close()"
      ],
      "execution_count": 46,
      "outputs": []
    },
    {
      "cell_type": "markdown",
      "metadata": {
        "id": "SoBPkxuEW1I4"
      },
      "source": [
        "Testando nosso código. Repare que o comando LIMIT foi utilizado para limitar a quantidade de linhas."
      ]
    },
    {
      "cell_type": "code",
      "metadata": {
        "colab": {
          "base_uri": "https://localhost:8080/"
        },
        "id": "y5yeTM-qW1I5",
        "outputId": "67094643-ab73-4d87-8b92-ad92d1f18937"
      },
      "source": [
        "consulta_passageiro = \"\"\"SELECT * FROM PASSAGEIROS LIMIT 10\"\"\"\n",
        "executa_consulta(consulta_passageiro)"
      ],
      "execution_count": 47,
      "outputs": [
        {
          "output_type": "stream",
          "text": [
            "(1, 0, 3, 'Braund, Mr. Owen Harris', 'male', 22, 1, 0)\n",
            "(2, 1, 1, 'Cumings, Mrs. John Bradley (Florence Briggs Thayer)', 'female', 38, 1, 0)\n",
            "(3, 1, 3, 'Heikkinen, Miss. Laina', 'female', 26, 0, 0)\n",
            "(4, 1, 1, 'Futrelle, Mrs. Jacques Heath (Lily May Peel)', 'female', 35, 1, 0)\n",
            "(5, 0, 3, 'Allen, Mr. William Henry', 'male', 35, 0, 0)\n",
            "(6, 0, 3, 'Moran, Mr. James', 'male', '', 0, 0)\n",
            "(7, 0, 1, 'McCarthy, Mr. Timothy J', 'male', 54, 0, 0)\n",
            "(8, 0, 3, 'Palsson, Master. Gosta Leonard', 'male', 2, 3, 1)\n",
            "(9, 1, 3, 'Johnson, Mrs. Oscar W (Elisabeth Vilhelmina Berg)', 'female', 27, 0, 2)\n",
            "(10, 1, 2, 'Nasser, Mrs. Nicholas (Adele Achem)', 'female', 14, 1, 0)\n"
          ],
          "name": "stdout"
        }
      ]
    },
    {
      "cell_type": "code",
      "metadata": {
        "collapsed": true,
        "colab": {
          "base_uri": "https://localhost:8080/",
          "height": 299
        },
        "id": "Bi1Cha4oW1I5",
        "outputId": "bbd3b9e6-bbd3-4ae0-9d6d-26886be616e4"
      },
      "source": [
        "consulta_passagens = \"\"\"SELECT * FROM PASSAGENS LIMIT 10\"\"\"\n",
        "executa_consulta(consulta_passagens)"
      ],
      "execution_count": 48,
      "outputs": [
        {
          "output_type": "error",
          "ename": "OperationalError",
          "evalue": "ignored",
          "traceback": [
            "\u001b[0;31m---------------------------------------------------------------------------\u001b[0m",
            "\u001b[0;31mOperationalError\u001b[0m                          Traceback (most recent call last)",
            "\u001b[0;32m<ipython-input-48-c0a11cbc7b33>\u001b[0m in \u001b[0;36m<module>\u001b[0;34m()\u001b[0m\n\u001b[1;32m      1\u001b[0m \u001b[0mconsulta_passagens\u001b[0m \u001b[0;34m=\u001b[0m \u001b[0;34m\"\"\"SELECT * FROM PASSAGENS LIMIT 10\"\"\"\u001b[0m\u001b[0;34m\u001b[0m\u001b[0;34m\u001b[0m\u001b[0m\n\u001b[0;32m----> 2\u001b[0;31m \u001b[0mexecuta_consulta\u001b[0m\u001b[0;34m(\u001b[0m\u001b[0mconsulta_passagens\u001b[0m\u001b[0;34m)\u001b[0m\u001b[0;34m\u001b[0m\u001b[0;34m\u001b[0m\u001b[0m\n\u001b[0m",
            "\u001b[0;32m<ipython-input-46-02cc340ab441>\u001b[0m in \u001b[0;36mexecuta_consulta\u001b[0;34m(consulta)\u001b[0m\n\u001b[1;32m      1\u001b[0m \u001b[0;32mdef\u001b[0m \u001b[0mexecuta_consulta\u001b[0m\u001b[0;34m(\u001b[0m\u001b[0mconsulta\u001b[0m\u001b[0;34m)\u001b[0m\u001b[0;34m:\u001b[0m\u001b[0;34m\u001b[0m\u001b[0;34m\u001b[0m\u001b[0m\n\u001b[1;32m      2\u001b[0m     \u001b[0mcursor\u001b[0m \u001b[0;34m=\u001b[0m \u001b[0mconn\u001b[0m\u001b[0;34m.\u001b[0m\u001b[0mcursor\u001b[0m\u001b[0;34m(\u001b[0m\u001b[0;34m)\u001b[0m\u001b[0;34m\u001b[0m\u001b[0;34m\u001b[0m\u001b[0m\n\u001b[0;32m----> 3\u001b[0;31m     \u001b[0mcursor\u001b[0m\u001b[0;34m.\u001b[0m\u001b[0mexecute\u001b[0m\u001b[0;34m(\u001b[0m\u001b[0mconsulta\u001b[0m\u001b[0;34m)\u001b[0m\u001b[0;34m\u001b[0m\u001b[0;34m\u001b[0m\u001b[0m\n\u001b[0m\u001b[1;32m      4\u001b[0m     \u001b[0;32mfor\u001b[0m \u001b[0mlinha\u001b[0m \u001b[0;32min\u001b[0m \u001b[0mcursor\u001b[0m\u001b[0;34m.\u001b[0m\u001b[0mfetchall\u001b[0m\u001b[0;34m(\u001b[0m\u001b[0;34m)\u001b[0m\u001b[0;34m:\u001b[0m\u001b[0;34m\u001b[0m\u001b[0;34m\u001b[0m\u001b[0m\n\u001b[1;32m      5\u001b[0m         \u001b[0mprint\u001b[0m\u001b[0;34m(\u001b[0m\u001b[0mlinha\u001b[0m\u001b[0;34m)\u001b[0m\u001b[0;34m\u001b[0m\u001b[0;34m\u001b[0m\u001b[0m\n",
            "\u001b[0;31mOperationalError\u001b[0m: no such table: PASSAGENS"
          ]
        }
      ]
    },
    {
      "cell_type": "markdown",
      "metadata": {
        "id": "UgVKnDS-W1I5"
      },
      "source": [
        "Também podemos imprimir mais informações sobre uma tabela usando o seguinte comando:"
      ]
    },
    {
      "cell_type": "code",
      "metadata": {
        "collapsed": true,
        "colab": {
          "base_uri": "https://localhost:8080/"
        },
        "id": "q25EdtJXW1I5",
        "outputId": "90266744-f262-4163-8e6d-2ec2019398bf"
      },
      "source": [
        "executa_consulta('pragma table_info(passageiros)')"
      ],
      "execution_count": 49,
      "outputs": [
        {
          "output_type": "stream",
          "text": [
            "(0, 'PassengerId', 'INTEGER', 1, None, 1)\n",
            "(1, 'Survived', 'INTEGER', 1, None, 0)\n",
            "(2, 'Pclass', 'INTEGER', 1, None, 0)\n",
            "(3, 'Name', 'VARCHAR(200)', 0, None, 0)\n",
            "(4, 'Sex', 'VARCHAR(20)', 0, None, 0)\n",
            "(5, 'Age', 'INTEGER', 0, None, 0)\n",
            "(6, 'SibSp', 'INTEGER', 0, None, 0)\n",
            "(7, 'Parch', 'INTEGER', 0, None, 0)\n"
          ],
          "name": "stdout"
        }
      ]
    },
    {
      "cell_type": "markdown",
      "metadata": {
        "id": "ibpkNkR7W1I6"
      },
      "source": [
        "### TAREFA 07\n",
        "1. Verifique quantos tipos de classe (PClass) existem na tabela passageiros."
      ]
    },
    {
      "cell_type": "code",
      "metadata": {
        "colab": {
          "base_uri": "https://localhost:8080/",
          "height": 316
        },
        "id": "jEarRqdaW1I6",
        "outputId": "13fb96c5-5210-4c6d-f1ae-795283ca2fe8"
      },
      "source": [
        "# Insira seu código aqui\n",
        "consulta = \"\"\"SELECT DISTINCT(...) FROM ...\"\"\"\n",
        "executa_consulta(consulta)"
      ],
      "execution_count": 50,
      "outputs": [
        {
          "output_type": "error",
          "ename": "OperationalError",
          "evalue": "ignored",
          "traceback": [
            "\u001b[0;31m---------------------------------------------------------------------------\u001b[0m",
            "\u001b[0;31mOperationalError\u001b[0m                          Traceback (most recent call last)",
            "\u001b[0;32m<ipython-input-50-0bedef77e84f>\u001b[0m in \u001b[0;36m<module>\u001b[0;34m()\u001b[0m\n\u001b[1;32m      1\u001b[0m \u001b[0;31m# Insira seu código aqui\u001b[0m\u001b[0;34m\u001b[0m\u001b[0;34m\u001b[0m\u001b[0;34m\u001b[0m\u001b[0m\n\u001b[1;32m      2\u001b[0m \u001b[0mconsulta\u001b[0m \u001b[0;34m=\u001b[0m \u001b[0;34m\"\"\"SELECT DISTINCT(...) FROM ...\"\"\"\u001b[0m\u001b[0;34m\u001b[0m\u001b[0;34m\u001b[0m\u001b[0m\n\u001b[0;32m----> 3\u001b[0;31m \u001b[0mexecuta_consulta\u001b[0m\u001b[0;34m(\u001b[0m\u001b[0mconsulta\u001b[0m\u001b[0;34m)\u001b[0m\u001b[0;34m\u001b[0m\u001b[0;34m\u001b[0m\u001b[0m\n\u001b[0m",
            "\u001b[0;32m<ipython-input-46-02cc340ab441>\u001b[0m in \u001b[0;36mexecuta_consulta\u001b[0;34m(consulta)\u001b[0m\n\u001b[1;32m      1\u001b[0m \u001b[0;32mdef\u001b[0m \u001b[0mexecuta_consulta\u001b[0m\u001b[0;34m(\u001b[0m\u001b[0mconsulta\u001b[0m\u001b[0;34m)\u001b[0m\u001b[0;34m:\u001b[0m\u001b[0;34m\u001b[0m\u001b[0;34m\u001b[0m\u001b[0m\n\u001b[1;32m      2\u001b[0m     \u001b[0mcursor\u001b[0m \u001b[0;34m=\u001b[0m \u001b[0mconn\u001b[0m\u001b[0;34m.\u001b[0m\u001b[0mcursor\u001b[0m\u001b[0;34m(\u001b[0m\u001b[0;34m)\u001b[0m\u001b[0;34m\u001b[0m\u001b[0;34m\u001b[0m\u001b[0m\n\u001b[0;32m----> 3\u001b[0;31m     \u001b[0mcursor\u001b[0m\u001b[0;34m.\u001b[0m\u001b[0mexecute\u001b[0m\u001b[0;34m(\u001b[0m\u001b[0mconsulta\u001b[0m\u001b[0;34m)\u001b[0m\u001b[0;34m\u001b[0m\u001b[0;34m\u001b[0m\u001b[0m\n\u001b[0m\u001b[1;32m      4\u001b[0m     \u001b[0;32mfor\u001b[0m \u001b[0mlinha\u001b[0m \u001b[0;32min\u001b[0m \u001b[0mcursor\u001b[0m\u001b[0;34m.\u001b[0m\u001b[0mfetchall\u001b[0m\u001b[0;34m(\u001b[0m\u001b[0;34m)\u001b[0m\u001b[0;34m:\u001b[0m\u001b[0;34m\u001b[0m\u001b[0;34m\u001b[0m\u001b[0m\n\u001b[1;32m      5\u001b[0m         \u001b[0mprint\u001b[0m\u001b[0;34m(\u001b[0m\u001b[0mlinha\u001b[0m\u001b[0;34m)\u001b[0m\u001b[0;34m\u001b[0m\u001b[0;34m\u001b[0m\u001b[0m\n",
            "\u001b[0;31mOperationalError\u001b[0m: near \".\": syntax error"
          ]
        }
      ]
    },
    {
      "cell_type": "markdown",
      "metadata": {
        "id": "LX5z9h3QW1I6"
      },
      "source": [
        "### TAREFA 08\n",
        "1. Selecione os passageiros do sexo masculino (Sex) e que estejam na segunda classe (PClass).\n",
        "\n",
        "**DICA**: Use a cláusula WHERE e uma condicional (AND ou OR)."
      ]
    },
    {
      "cell_type": "code",
      "metadata": {
        "colab": {
          "base_uri": "https://localhost:8080/",
          "height": 316
        },
        "id": "SIaPVHhSW1I6",
        "outputId": "2083d544-94ea-4071-9c50-35c006059925"
      },
      "source": [
        "# Insira seu código aqui\n",
        "consulta = \"\"\"SELECT ... FROM ... WHERE Sex='...' and PClass=...\"\"\"\n",
        "executa_consulta(consulta)"
      ],
      "execution_count": 51,
      "outputs": [
        {
          "output_type": "error",
          "ename": "OperationalError",
          "evalue": "ignored",
          "traceback": [
            "\u001b[0;31m---------------------------------------------------------------------------\u001b[0m",
            "\u001b[0;31mOperationalError\u001b[0m                          Traceback (most recent call last)",
            "\u001b[0;32m<ipython-input-51-fb806ca9a9ae>\u001b[0m in \u001b[0;36m<module>\u001b[0;34m()\u001b[0m\n\u001b[1;32m      1\u001b[0m \u001b[0;31m# Insira seu código aqui\u001b[0m\u001b[0;34m\u001b[0m\u001b[0;34m\u001b[0m\u001b[0;34m\u001b[0m\u001b[0m\n\u001b[1;32m      2\u001b[0m \u001b[0mconsulta\u001b[0m \u001b[0;34m=\u001b[0m \u001b[0;34m\"\"\"SELECT ... FROM ... WHERE Sex='...' and PClass=...\"\"\"\u001b[0m\u001b[0;34m\u001b[0m\u001b[0;34m\u001b[0m\u001b[0m\n\u001b[0;32m----> 3\u001b[0;31m \u001b[0mexecuta_consulta\u001b[0m\u001b[0;34m(\u001b[0m\u001b[0mconsulta\u001b[0m\u001b[0;34m)\u001b[0m\u001b[0;34m\u001b[0m\u001b[0;34m\u001b[0m\u001b[0m\n\u001b[0m",
            "\u001b[0;32m<ipython-input-46-02cc340ab441>\u001b[0m in \u001b[0;36mexecuta_consulta\u001b[0;34m(consulta)\u001b[0m\n\u001b[1;32m      1\u001b[0m \u001b[0;32mdef\u001b[0m \u001b[0mexecuta_consulta\u001b[0m\u001b[0;34m(\u001b[0m\u001b[0mconsulta\u001b[0m\u001b[0;34m)\u001b[0m\u001b[0;34m:\u001b[0m\u001b[0;34m\u001b[0m\u001b[0;34m\u001b[0m\u001b[0m\n\u001b[1;32m      2\u001b[0m     \u001b[0mcursor\u001b[0m \u001b[0;34m=\u001b[0m \u001b[0mconn\u001b[0m\u001b[0;34m.\u001b[0m\u001b[0mcursor\u001b[0m\u001b[0;34m(\u001b[0m\u001b[0;34m)\u001b[0m\u001b[0;34m\u001b[0m\u001b[0;34m\u001b[0m\u001b[0m\n\u001b[0;32m----> 3\u001b[0;31m     \u001b[0mcursor\u001b[0m\u001b[0;34m.\u001b[0m\u001b[0mexecute\u001b[0m\u001b[0;34m(\u001b[0m\u001b[0mconsulta\u001b[0m\u001b[0;34m)\u001b[0m\u001b[0;34m\u001b[0m\u001b[0;34m\u001b[0m\u001b[0m\n\u001b[0m\u001b[1;32m      4\u001b[0m     \u001b[0;32mfor\u001b[0m \u001b[0mlinha\u001b[0m \u001b[0;32min\u001b[0m \u001b[0mcursor\u001b[0m\u001b[0;34m.\u001b[0m\u001b[0mfetchall\u001b[0m\u001b[0;34m(\u001b[0m\u001b[0;34m)\u001b[0m\u001b[0;34m:\u001b[0m\u001b[0;34m\u001b[0m\u001b[0;34m\u001b[0m\u001b[0m\n\u001b[1;32m      5\u001b[0m         \u001b[0mprint\u001b[0m\u001b[0;34m(\u001b[0m\u001b[0mlinha\u001b[0m\u001b[0;34m)\u001b[0m\u001b[0;34m\u001b[0m\u001b[0;34m\u001b[0m\u001b[0m\n",
            "\u001b[0;31mOperationalError\u001b[0m: near \".\": syntax error"
          ]
        }
      ]
    },
    {
      "cell_type": "markdown",
      "metadata": {
        "id": "OIU5MbukW1I7"
      },
      "source": [
        "### TAREFA 09\n",
        "1. Conte quantos passageiros existem por sexo.\n",
        "\n",
        "**DICA**: Use GROUP BY e COUNT()."
      ]
    },
    {
      "cell_type": "code",
      "metadata": {
        "colab": {
          "base_uri": "https://localhost:8080/",
          "height": 316
        },
        "id": "eMtbypouW1I7",
        "outputId": "1883fe2e-dd38-4e21-8f4b-2ed8022cfe17"
      },
      "source": [
        "# Insira seu código aqui\n",
        "consulta = \"\"\"SELECT ..., count() FROM ... GROUP BY ...\"\"\"\n",
        "executa_consulta(consulta)"
      ],
      "execution_count": 52,
      "outputs": [
        {
          "output_type": "error",
          "ename": "OperationalError",
          "evalue": "ignored",
          "traceback": [
            "\u001b[0;31m---------------------------------------------------------------------------\u001b[0m",
            "\u001b[0;31mOperationalError\u001b[0m                          Traceback (most recent call last)",
            "\u001b[0;32m<ipython-input-52-0fcadec0989c>\u001b[0m in \u001b[0;36m<module>\u001b[0;34m()\u001b[0m\n\u001b[1;32m      1\u001b[0m \u001b[0;31m# Insira seu código aqui\u001b[0m\u001b[0;34m\u001b[0m\u001b[0;34m\u001b[0m\u001b[0;34m\u001b[0m\u001b[0m\n\u001b[1;32m      2\u001b[0m \u001b[0mconsulta\u001b[0m \u001b[0;34m=\u001b[0m \u001b[0;34m\"\"\"SELECT ..., count() FROM ... GROUP BY ...\"\"\"\u001b[0m\u001b[0;34m\u001b[0m\u001b[0;34m\u001b[0m\u001b[0m\n\u001b[0;32m----> 3\u001b[0;31m \u001b[0mexecuta_consulta\u001b[0m\u001b[0;34m(\u001b[0m\u001b[0mconsulta\u001b[0m\u001b[0;34m)\u001b[0m\u001b[0;34m\u001b[0m\u001b[0;34m\u001b[0m\u001b[0m\n\u001b[0m",
            "\u001b[0;32m<ipython-input-46-02cc340ab441>\u001b[0m in \u001b[0;36mexecuta_consulta\u001b[0;34m(consulta)\u001b[0m\n\u001b[1;32m      1\u001b[0m \u001b[0;32mdef\u001b[0m \u001b[0mexecuta_consulta\u001b[0m\u001b[0;34m(\u001b[0m\u001b[0mconsulta\u001b[0m\u001b[0;34m)\u001b[0m\u001b[0;34m:\u001b[0m\u001b[0;34m\u001b[0m\u001b[0;34m\u001b[0m\u001b[0m\n\u001b[1;32m      2\u001b[0m     \u001b[0mcursor\u001b[0m \u001b[0;34m=\u001b[0m \u001b[0mconn\u001b[0m\u001b[0;34m.\u001b[0m\u001b[0mcursor\u001b[0m\u001b[0;34m(\u001b[0m\u001b[0;34m)\u001b[0m\u001b[0;34m\u001b[0m\u001b[0;34m\u001b[0m\u001b[0m\n\u001b[0;32m----> 3\u001b[0;31m     \u001b[0mcursor\u001b[0m\u001b[0;34m.\u001b[0m\u001b[0mexecute\u001b[0m\u001b[0;34m(\u001b[0m\u001b[0mconsulta\u001b[0m\u001b[0;34m)\u001b[0m\u001b[0;34m\u001b[0m\u001b[0;34m\u001b[0m\u001b[0m\n\u001b[0m\u001b[1;32m      4\u001b[0m     \u001b[0;32mfor\u001b[0m \u001b[0mlinha\u001b[0m \u001b[0;32min\u001b[0m \u001b[0mcursor\u001b[0m\u001b[0;34m.\u001b[0m\u001b[0mfetchall\u001b[0m\u001b[0;34m(\u001b[0m\u001b[0;34m)\u001b[0m\u001b[0;34m:\u001b[0m\u001b[0;34m\u001b[0m\u001b[0;34m\u001b[0m\u001b[0m\n\u001b[1;32m      5\u001b[0m         \u001b[0mprint\u001b[0m\u001b[0;34m(\u001b[0m\u001b[0mlinha\u001b[0m\u001b[0;34m)\u001b[0m\u001b[0;34m\u001b[0m\u001b[0;34m\u001b[0m\u001b[0m\n",
            "\u001b[0;31mOperationalError\u001b[0m: near \".\": syntax error"
          ]
        }
      ]
    },
    {
      "cell_type": "markdown",
      "metadata": {
        "id": "KOXN8kWQW1I7"
      },
      "source": [
        "### TAREFA 10\n",
        "1. Verifique o valor médio das passagens em cada porto de embarque\n",
        "\n",
        "**DICA**: Use GROUP BY e AVG(). A presença de valores missing pode apresentar alguns resultados estranhos."
      ]
    },
    {
      "cell_type": "code",
      "metadata": {
        "id": "AkbCBqfCW1I7"
      },
      "source": [
        "# Insira seu código aqui\n",
        "consulta = \"\"\"...\"\"\"\n",
        "executa_consulta(consulta)"
      ],
      "execution_count": null,
      "outputs": []
    },
    {
      "cell_type": "markdown",
      "metadata": {
        "id": "C0VXWD5zW1I8"
      },
      "source": [
        "### TAREFA 11\n",
        "1. Selecione o nome (Name), sexo(Sex) e tarifa(Fare) paga de 5 passageiros\n",
        "2. Utilize as tabelas passageiros e passagens.\n",
        "\n",
        "**DICA**: Use JOIN."
      ]
    },
    {
      "cell_type": "code",
      "metadata": {
        "id": "IYWNbmoeW1I8"
      },
      "source": [
        "# Insira seu código aqui\n",
        "# Insira seu código aqui\n",
        "consulta = \"\"\"SELECT ... FROM ... INNER JOIN ... ON ... LIMIT ...\"\"\"\n",
        "executa_consulta(consulta)"
      ],
      "execution_count": null,
      "outputs": []
    },
    {
      "cell_type": "markdown",
      "metadata": {
        "id": "VxDXklhdW1I8"
      },
      "source": [
        "### TAREFA 12\n",
        "1. Selecione o valor máximo (Fare) das passagens por classe."
      ]
    },
    {
      "cell_type": "code",
      "metadata": {
        "id": "Eoqv-qbkW1I9"
      },
      "source": [
        "# Insira seu código aqui\n",
        "consulta = \"\"\"...\"\"\"\n",
        "executa_consulta(consulta)"
      ],
      "execution_count": null,
      "outputs": []
    },
    {
      "cell_type": "markdown",
      "metadata": {
        "id": "5aGfpkwtW1I9"
      },
      "source": [
        "### TAREFA 13\n",
        "1. Descubra quantas pessoas embarcaram por porto\n",
        "2. Agrupando por porto e sexo."
      ]
    },
    {
      "cell_type": "code",
      "metadata": {
        "id": "KLmKFv7lW1I9"
      },
      "source": [
        "# Insira seu código aqui\n",
        "consulta = \"\"\"...\"\"\"\n",
        "executa_consulta(consulta)"
      ],
      "execution_count": null,
      "outputs": []
    },
    {
      "cell_type": "markdown",
      "metadata": {
        "id": "vbFAudwFW1I9"
      },
      "source": [
        "## 3. Conclusão\n",
        "\n",
        "A quantidade de consultas e a lista de comandos SQL é enorme. A interação foi somente relembrar alguns comandos básicos para que você se sinta confortável para explorar qualquer banco de dados SQL que você encontrar.\n"
      ]
    },
    {
      "cell_type": "markdown",
      "metadata": {
        "id": "00UG09BMW1I9"
      },
      "source": [
        "### Awari -  <a href=\"https://awari.com.br/\"> awari.com.br</a>"
      ]
    }
  ]
}